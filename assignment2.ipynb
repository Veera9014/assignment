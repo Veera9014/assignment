{
  "nbformat": 4,
  "nbformat_minor": 0,
  "metadata": {
    "colab": {
      "provenance": [],
      "authorship_tag": "ABX9TyPDF6KINzxCIsypJbWf7O7g",
      "include_colab_link": true
    },
    "kernelspec": {
      "name": "python3",
      "display_name": "Python 3"
    },
    "language_info": {
      "name": "python"
    }
  },
  "cells": [
    {
      "cell_type": "markdown",
      "metadata": {
        "id": "view-in-github",
        "colab_type": "text"
      },
      "source": [
        "<a href=\"https://colab.research.google.com/github/Veera9014/assignment/blob/main/assignment2.ipynb\" target=\"_parent\"><img src=\"https://colab.research.google.com/assets/colab-badge.svg\" alt=\"Open In Colab\"/></a>"
      ]
    },
    {
      "cell_type": "code",
      "execution_count": null,
      "metadata": {
        "id": "vmEEq5MH9MW8"
      },
      "outputs": [],
      "source": [
        "\n",
        "\n",
        "import numpy as np\n",
        "from scipy import stats"
      ]
    },
    {
      "cell_type": "code",
      "source": [
        "data=np.array([1.13, 1.55, 1.43, 0.92, 1.25, 1.36, 1.32, 0.85, 1.07, 1.48, 1.20, 1.33, 1.18, 1.22, 1.29])\n"
      ],
      "metadata": {
        "id": "K6F6fMPo-Pyu"
      },
      "execution_count": null,
      "outputs": []
    },
    {
      "cell_type": "markdown",
      "source": [
        "a. Build 99% Confidence Interval Using Sample Standard Deviation"
      ],
      "metadata": {
        "id": "Z-a_YsN1AG5h"
      }
    },
    {
      "cell_type": "code",
      "source": [
        "confint=stats.norm.interval(0.99,loc=15,scale=9/np.sqrt(3.5))"
      ],
      "metadata": {
        "id": "9AT2l5nR9erc"
      },
      "execution_count": null,
      "outputs": []
    },
    {
      "cell_type": "code",
      "source": [
        "confint"
      ],
      "metadata": {
        "colab": {
          "base_uri": "https://localhost:8080/"
        },
        "id": "SJ_ItitF9xiD",
        "outputId": "3338eb43-d9b1-4a7c-a6db-029c646c8e84"
      },
      "execution_count": null,
      "outputs": [
        {
          "output_type": "execute_result",
          "data": {
            "text/plain": [
              "(2.6084519048239034, 27.3915480951761)"
            ]
          },
          "metadata": {},
          "execution_count": 33
        }
      ]
    },
    {
      "cell_type": "code",
      "source": [
        "np.round(confint)"
      ],
      "metadata": {
        "id": "X6cQv46w9zRu",
        "colab": {
          "base_uri": "https://localhost:8080/"
        },
        "outputId": "dea591cf-6433-445c-c088-d14b5bd7d5df"
      },
      "execution_count": null,
      "outputs": [
        {
          "output_type": "execute_result",
          "data": {
            "text/plain": [
              "array([ 3., 27.])"
            ]
          },
          "metadata": {},
          "execution_count": 35
        }
      ]
    },
    {
      "cell_type": "code",
      "source": [
        "population=stats.norm.interval(0.99,loc=15,scale=15/np.sqrt(1.5))"
      ],
      "metadata": {
        "id": "U6V4ZjnUdf2p"
      },
      "execution_count": null,
      "outputs": []
    },
    {
      "cell_type": "code",
      "source": [
        "population"
      ],
      "metadata": {
        "colab": {
          "base_uri": "https://localhost:8080/"
        },
        "id": "bDL5HV0ldn-x",
        "outputId": "d96c8e06-5e57-419f-a1c1-ca9aba39d5f0"
      },
      "execution_count": null,
      "outputs": [
        {
          "output_type": "execute_result",
          "data": {
            "text/plain": [
              "(-16.54733729101685, 46.547337291016845)"
            ]
          },
          "metadata": {},
          "execution_count": 45
        }
      ]
    },
    {
      "cell_type": "code",
      "source": [
        "import scipy.stats as stats\n",
        "\n",
        "\n",
        "\n",
        "def confidence_interval(sample, confidence_level=0.99):\n",
        "\n",
        "    sample_mean = np.mean(sample)\n",
        "\n",
        "    sample_std = np.std(sample)\n",
        "\n",
        "    sample_size = len(sample)\n",
        "\n",
        "\n",
        "\n",
        "    # Find critical value (z-score) based on confidence level\n",
        "\n",
        "    z_critical = stats.norm.ppf((1 + confidence_level) / 2)\n",
        "\n",
        "\n",
        "\n",
        "    margin_of_error = z_critical * (sample_std /  np.sqrt(sample_size))\n",
        "\n",
        "    lower_bound = sample_mean - margin_of_error\n",
        "\n",
        "    upper_bound = sample_mean + margin_of_error\n",
        "\n",
        "\n",
        "\n",
        "    return (lower_bound, upper_bound)\n",
        "\n",
        "\n",
        "\n",
        "# Example usage:\n",
        "\n",
        "sample_data = [1.13, 1.55, 1.43, 0.92, 1.25, 1.36, 1.32, 0.85, 1.07, 1.48, 1.20, 1.33, 1.18, 1.22, 1.29]\n",
        "\n",
        "confidence_interval = confidence_interval(sample_data)\n",
        "\n",
        "print(f\"Confidence interval: {confidence_interval}\")"
      ],
      "metadata": {
        "colab": {
          "base_uri": "https://localhost:8080/"
        },
        "id": "NzZL5lBjdrIV",
        "outputId": "f2fbd3b8-3415-49e6-9fcd-8b43bd437b23"
      },
      "execution_count": null,
      "outputs": [
        {
          "output_type": "stream",
          "name": "stdout",
          "text": [
            "Confidence interval: (1.1145539391646546, 1.3627793941686785)\n"
          ]
        }
      ]
    },
    {
      "cell_type": "code",
      "source": [
        "\n",
        "def confidence_interval(population, confidence_level=0.1):\n",
        "\n",
        "    population_mean = np.mean(population)\n",
        "\n",
        "    population_std = np.std(population)\n",
        "\n",
        "    population_size = len(population)\n",
        "\n",
        "\n",
        "\n",
        "    # Find critical value (z-score) based on confidence level\n",
        "\n",
        "    z_critical = stats.norm.ppf((1 - confidence_level) / 2)\n",
        "\n",
        "\n",
        "\n",
        "    margin_of_error = z_critical * (population_std /  np.sqrt(population_size))\n",
        "\n",
        "    lower_bound = population_mean - margin_of_error\n",
        "\n",
        "    upper_bound = population_mean + margin_of_error\n",
        "\n",
        "\n",
        "\n",
        "    return (lower_bound, upper_bound)\n",
        "\n",
        "\n",
        "\n",
        "# Example usage:\n",
        "\n",
        "population_data = [1.13, 1.55, 1.43, 0.92, 1.25, 1.36, 1.32, 0.85, 1.07, 1.48, 1.20, 1.33, 1.18, 1.22, 1.29]\n",
        "\n",
        "confidence_interval = confidence_interval(population_data)\n",
        "\n",
        "print(f\"Confidence interval: {confidence_interval}\")"
      ],
      "metadata": {
        "colab": {
          "base_uri": "https://localhost:8080/"
        },
        "id": "gC1-wOVGeEbI",
        "outputId": "0fd4c2fe-fc16-4aa5-eacf-9dbd6e1e9374"
      },
      "execution_count": null,
      "outputs": [
        {
          "output_type": "stream",
          "name": "stdout",
          "text": [
            "Confidence interval: (1.2447214826741837, 1.2326118506591495)\n"
          ]
        }
      ]
    },
    {
      "cell_type": "code",
      "source": [],
      "metadata": {
        "id": "B3fSsTcYfIqB"
      },
      "execution_count": null,
      "outputs": []
    }
  ]
}