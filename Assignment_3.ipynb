{
  "nbformat": 4,
  "nbformat_minor": 0,
  "metadata": {
    "colab": {
      "provenance": [],
      "authorship_tag": "ABX9TyPJVmvP9YDLUC7XGMWsX24s",
      "include_colab_link": true
    },
    "kernelspec": {
      "name": "python3",
      "display_name": "Python 3"
    },
    "language_info": {
      "name": "python"
    }
  },
  "cells": [
    {
      "cell_type": "markdown",
      "metadata": {
        "id": "view-in-github",
        "colab_type": "text"
      },
      "source": [
        "<a href=\"https://colab.research.google.com/github/Veera9014/assignment/blob/main/Assignment_3.ipynb\" target=\"_parent\"><img src=\"https://colab.research.google.com/assets/colab-badge.svg\" alt=\"Open In Colab\"/></a>"
      ]
    },
    {
      "cell_type": "code",
      "execution_count": null,
      "metadata": {
        "id": "0XdU5gauIXhL"
      },
      "outputs": [],
      "source": [
        "import numpy as np\n",
        "import statistics as s\n",
        "from scipy import stats"
      ]
    },
    {
      "cell_type": "code",
      "source": [
        "score=[60,70,40,50,30,90,50]\n"
      ],
      "metadata": {
        "id": "XK5YE3-1JemR"
      },
      "execution_count": null,
      "outputs": []
    },
    {
      "cell_type": "markdown",
      "source": [
        "# mean,median and mode-practical Examples"
      ],
      "metadata": {
        "id": "NwGrDq1hQUP4"
      }
    },
    {
      "cell_type": "code",
      "source": [
        "print(\"mean of Test score:\",score)"
      ],
      "metadata": {
        "colab": {
          "base_uri": "https://localhost:8080/"
        },
        "id": "dR3DS9S2JxqI",
        "outputId": "c24a4f56-c949-45d7-e1c6-6068134540e0"
      },
      "execution_count": null,
      "outputs": [
        {
          "output_type": "stream",
          "name": "stdout",
          "text": [
            "mean of Test score: [60, 70, 40, 50, 30, 90, 50]\n"
          ]
        }
      ]
    },
    {
      "cell_type": "code",
      "source": [
        "median=np.median(score)"
      ],
      "metadata": {
        "id": "426thvwoJ2rQ"
      },
      "execution_count": null,
      "outputs": []
    },
    {
      "cell_type": "code",
      "source": [
        "print('median of Test score:',median)"
      ],
      "metadata": {
        "id": "Hr5WnxaZLVGo",
        "colab": {
          "base_uri": "https://localhost:8080/"
        },
        "outputId": "d436f6ae-8da4-4071-bad0-c38530543edf"
      },
      "execution_count": null,
      "outputs": [
        {
          "output_type": "stream",
          "name": "stdout",
          "text": [
            "median of Test score: 50.0\n"
          ]
        }
      ]
    },
    {
      "cell_type": "code",
      "source": [
        "print(\"median of odd set of numbers:\",median)"
      ],
      "metadata": {
        "id": "sgkP1ewiM7m-",
        "colab": {
          "base_uri": "https://localhost:8080/"
        },
        "outputId": "8ba20d82-4cff-42ea-f7ce-f4716e4ce8d5"
      },
      "execution_count": null,
      "outputs": [
        {
          "output_type": "stream",
          "name": "stdout",
          "text": [
            "median of odd set of numbers: 50.0\n"
          ]
        }
      ]
    },
    {
      "cell_type": "code",
      "source": [
        "mode=s.mode(score)"
      ],
      "metadata": {
        "id": "hVbZa9HGLlkn"
      },
      "execution_count": null,
      "outputs": []
    },
    {
      "cell_type": "code",
      "source": [
        "mode"
      ],
      "metadata": {
        "id": "MD9WOFrYLwEI",
        "colab": {
          "base_uri": "https://localhost:8080/"
        },
        "outputId": "259fbacc-6d19-48b0-eda3-0192cf4173f0"
      },
      "execution_count": null,
      "outputs": [
        {
          "output_type": "execute_result",
          "data": {
            "text/plain": [
              "50"
            ]
          },
          "metadata": {},
          "execution_count": 77
        }
      ]
    },
    {
      "cell_type": "code",
      "source": [
        "data=(f\"mode:{mode}\")"
      ],
      "metadata": {
        "id": "LiU8AXoZMR3b"
      },
      "execution_count": null,
      "outputs": []
    },
    {
      "cell_type": "code",
      "source": [
        "data"
      ],
      "metadata": {
        "id": "oS257-4XOlIT",
        "colab": {
          "base_uri": "https://localhost:8080/",
          "height": 35
        },
        "outputId": "028196f0-5ac4-463b-a932-270ce68f98ff"
      },
      "execution_count": null,
      "outputs": [
        {
          "output_type": "execute_result",
          "data": {
            "text/plain": [
              "'mode:50'"
            ],
            "application/vnd.google.colaboratory.intrinsic+json": {
              "type": "string"
            }
          },
          "metadata": {},
          "execution_count": 79
        }
      ]
    },
    {
      "cell_type": "markdown",
      "source": [
        "# calculate variance and standard deviation"
      ],
      "metadata": {
        "id": "0QKpqVOSQl0v"
      }
    },
    {
      "cell_type": "code",
      "source": [
        "data = [86,98,90,68,90,65,79,90,60,30,70,65]\n"
      ],
      "metadata": {
        "id": "idF15wNIOrht"
      },
      "execution_count": null,
      "outputs": []
    },
    {
      "cell_type": "markdown",
      "source": [
        "calcualte variance"
      ],
      "metadata": {
        "id": "qtNS9EkcQ6RG"
      }
    },
    {
      "cell_type": "code",
      "source": [
        "variance=np.var(data,ddof=0)"
      ],
      "metadata": {
        "id": "nPCpCCP-PFLN"
      },
      "execution_count": null,
      "outputs": []
    },
    {
      "cell_type": "code",
      "source": [
        "sample_variance=np.var(data,ddof=1)"
      ],
      "metadata": {
        "id": "MltUqyVHPNDw"
      },
      "execution_count": null,
      "outputs": []
    },
    {
      "cell_type": "code",
      "source": [
        "variance"
      ],
      "metadata": {
        "id": "_zVRJWxdPaam",
        "colab": {
          "base_uri": "https://localhost:8080/"
        },
        "outputId": "0bd5e544-1b16-4f97-fe0a-66c23e2a55b3"
      },
      "execution_count": null,
      "outputs": [
        {
          "output_type": "execute_result",
          "data": {
            "text/plain": [
              "321.5208333333333"
            ]
          },
          "metadata": {},
          "execution_count": 83
        }
      ]
    },
    {
      "cell_type": "code",
      "source": [
        "sample_variance"
      ],
      "metadata": {
        "id": "V_oA4Dk7PiMR",
        "colab": {
          "base_uri": "https://localhost:8080/"
        },
        "outputId": "05f4d5f2-7f4c-4dc3-f40a-f3b096d8ab07"
      },
      "execution_count": null,
      "outputs": [
        {
          "output_type": "execute_result",
          "data": {
            "text/plain": [
              "350.75"
            ]
          },
          "metadata": {},
          "execution_count": 84
        }
      ]
    },
    {
      "cell_type": "markdown",
      "source": [
        "calculate stardard deviation"
      ],
      "metadata": {
        "id": "eSh8-IwfRAJF"
      }
    },
    {
      "cell_type": "code",
      "source": [
        "population_std_dev=np.std(data,ddof=0)"
      ],
      "metadata": {
        "id": "C_N-dWJ2Pke4"
      },
      "execution_count": null,
      "outputs": []
    },
    {
      "cell_type": "code",
      "source": [
        "population_std_dev"
      ],
      "metadata": {
        "id": "UTbwBkLcRQBI",
        "colab": {
          "base_uri": "https://localhost:8080/"
        },
        "outputId": "083b3423-98bf-4674-e358-2bd607be3bd1"
      },
      "execution_count": null,
      "outputs": [
        {
          "output_type": "execute_result",
          "data": {
            "text/plain": [
              "17.931002016990945"
            ]
          },
          "metadata": {},
          "execution_count": 86
        }
      ]
    },
    {
      "cell_type": "code",
      "source": [
        "sample_std_dev=np.std(data,ddof=1)"
      ],
      "metadata": {
        "id": "jtEEk1rcRRqE"
      },
      "execution_count": null,
      "outputs": []
    },
    {
      "cell_type": "code",
      "source": [
        "sample_std_dev"
      ],
      "metadata": {
        "id": "WQgOdRfFRqTX",
        "colab": {
          "base_uri": "https://localhost:8080/"
        },
        "outputId": "cd70ed63-5bef-44f7-957c-c428630fbcee"
      },
      "execution_count": null,
      "outputs": [
        {
          "output_type": "execute_result",
          "data": {
            "text/plain": [
              "18.728320800328042"
            ]
          },
          "metadata": {},
          "execution_count": 88
        }
      ]
    },
    {
      "cell_type": "code",
      "source": [
        "# display result\n",
        "print(f\"population variance:{variance}\")\n",
        "print(f\"sample variance:{sample_variance}\")"
      ],
      "metadata": {
        "id": "uCDccWKkRse8",
        "colab": {
          "base_uri": "https://localhost:8080/"
        },
        "outputId": "d5991f31-ad63-4b48-e98d-ecbf6c6fb373"
      },
      "execution_count": null,
      "outputs": [
        {
          "output_type": "stream",
          "name": "stdout",
          "text": [
            "population variance:321.5208333333333\n",
            "sample variance:350.75\n"
          ]
        }
      ]
    },
    {
      "cell_type": "code",
      "source": [
        "print(f\"population standard deviation:{population_std_dev}\")\n",
        "print(f\"sample standard deviation:{sample_std_dev}\")"
      ],
      "metadata": {
        "id": "YDUTSdwTR69J",
        "colab": {
          "base_uri": "https://localhost:8080/"
        },
        "outputId": "5affad6e-46bf-4ff1-8558-b399f5bd8891"
      },
      "execution_count": null,
      "outputs": [
        {
          "output_type": "stream",
          "name": "stdout",
          "text": [
            "population standard deviation:17.931002016990945\n",
            "sample standard deviation:18.728320800328042\n"
          ]
        }
      ]
    },
    {
      "cell_type": "markdown",
      "source": [
        "# probability Density Function (PDF) and probability mass function(PMF)"
      ],
      "metadata": {
        "id": "NdlaRRKiSi5Y"
      }
    },
    {
      "cell_type": "markdown",
      "source": [
        "used for discrete random variable(e.g.,the toss a coin,number heads of coin,number of student in a class).it gives the probability of a specific discete outcome .the sum of all PMF values equals1."
      ],
      "metadata": {
        "id": "MHx3L_VWTYjS"
      }
    },
    {
      "cell_type": "code",
      "source": [
        "import matplotlib.pyplot as plt\n",
        "from scipy.stats import binom"
      ],
      "metadata": {
        "id": "CJC4QZHoWc_M"
      },
      "execution_count": null,
      "outputs": []
    },
    {
      "cell_type": "code",
      "source": [
        "# PMF Example:probalility of getting 3 heads in 5 fair coin toss\n",
        "n=5  # number of coin toss\n",
        "p=0.5   # probability of head\n",
        "\n",
        "k=3    #number of successes"
      ],
      "metadata": {
        "id": "O-FDNICTSiqj"
      },
      "execution_count": null,
      "outputs": []
    },
    {
      "cell_type": "code",
      "source": [
        "prob_3_heads=binom.pmf(k,n,p)\n",
        "print(f\"probability of getting 3 heads in 5 fair coin toss:{prob_3_heads}\")"
      ],
      "metadata": {
        "id": "wrtyCPi2Vjtr",
        "colab": {
          "base_uri": "https://localhost:8080/"
        },
        "outputId": "8d23f357-5676-4f88-c253-a49c0cd1de33"
      },
      "execution_count": null,
      "outputs": [
        {
          "output_type": "stream",
          "name": "stdout",
          "text": [
            "probability of getting 3 heads in 5 fair coin toss:0.31249999999999983\n"
          ]
        }
      ]
    },
    {
      "cell_type": "code",
      "source": [
        "# plot PMF\n",
        "plt.bar(k,prob_3_heads)\n",
        "plt.stem(k,prob_3_heads)\n",
        "plt.xlabel(\" number of heads\")\n",
        "plt.ylabel(\"probility\")\n",
        "plt.title(\"PMF of Bionomial Distribution(n=5,p=0.5)\")\n",
        "plt.xticks([k])\n",
        "plt.show()\n",
        "\n"
      ],
      "metadata": {
        "id": "qznv2v7iV1Rx",
        "colab": {
          "base_uri": "https://localhost:8080/",
          "height": 472
        },
        "outputId": "2a3f5bc0-d973-4bfb-fd4d-1a5fc13481eb"
      },
      "execution_count": null,
      "outputs": [
        {
          "output_type": "display_data",
          "data": {
            "text/plain": [
              "<Figure size 640x480 with 1 Axes>"
            ],
            "image/png": "[encoded data removed]"
          },
          "metadata": {}
        }
      ]
    },
    {
      "cell_type": "markdown",
      "source": [
        "# probability Density Function"
      ],
      "metadata": {
        "id": "Ng6TEcCubXZz"
      }
    },
    {
      "cell_type": "markdown",
      "source": [
        "Used for continuous random variables (e.g., height, weight, temperature). It represents the probability of a variable falling within a range, not a specific value (since for continuous data,\n",
        "\n",
        "P(X= x) = 0 P(X=x)=0).\n",
        "\n",
        "The total area under the PDF curve equals 1.\n",
        "\n",
        "Example (Height of people following a normal distribution):\n",
        "\n",
        "Mean height (μμ) = 200 cm\n",
        "\n",
        "Standard deviation (o) = 15| cm\n",
        "\n",
        "PDF will tell us the likelihood of a person's height falling in a certain range."
      ],
      "metadata": {
        "id": "2K_7Og5obHb0"
      }
    },
    {
      "cell_type": "code",
      "source": [
        "from scipy.stats import norm"
      ],
      "metadata": {
        "id": "3pUdErLGaREf"
      },
      "execution_count": null,
      "outputs": []
    },
    {
      "cell_type": "code",
      "source": [
        "# normal distribution parameters\n",
        "mean=200\n",
        "std=15\n",
        "x=np.linspace(130,250,100)"
      ],
      "metadata": {
        "id": "ZYDEPBErbsB8"
      },
      "execution_count": null,
      "outputs": []
    },
    {
      "cell_type": "code",
      "source": [
        "pdf_values=norm.pdf(x,mean,std)"
      ],
      "metadata": {
        "id": "YB2--QyZb0z9"
      },
      "execution_count": null,
      "outputs": []
    },
    {
      "cell_type": "code",
      "source": [
        "# plot PDF\n",
        "plt.plot(x,pdf_values)\n",
        "plt.xlabel(\"Height (cm)\")\n",
        "plt.ylabel(\"probability density\")\n",
        "plt.title(\"PDF\")\n",
        "plt.show()"
      ],
      "metadata": {
        "id": "Fj_ZFZAuc4bz",
        "colab": {
          "base_uri": "https://localhost:8080/",
          "height": 472
        },
        "outputId": "07aef3a2-4cc5-4baa-95e4-8e262612e7f6"
      },
      "execution_count": null,
      "outputs": [
        {
          "output_type": "display_data",
          "data": {
            "text/plain": [
              "<Figure size 640x480 with 1 Axes>"
            ],
            "image/png": "[encoded data removed]"
          },
          "metadata": {}
        }
      ]
    },
    {
      "cell_type": "markdown",
      "source": [
        "#Normal distribution"
      ],
      "metadata": {
        "id": "zw__i2AqePcf"
      }
    },
    {
      "cell_type": "markdown",
      "source": [
        "Normal Distribution (Gaussian Distribution) Definition: A continuous probability distribution that is symmetric around the mean. The famous \"bell curve\" shape.\n",
        "\n",
        "Used in natural phenomena like height, weight, IQ scores. Defined by mean (u) and standard deviation (o)."
      ],
      "metadata": {
        "id": "5Gduq8TkeLav"
      }
    },
    {
      "cell_type": "code",
      "source": [
        "# generted X value\n",
        "x=np.linspace(-6,6,5000)\n",
        "mean=0\n",
        "std=1"
      ],
      "metadata": {
        "id": "Uk4qoDsYeMqV"
      },
      "execution_count": null,
      "outputs": []
    },
    {
      "cell_type": "code",
      "source": [
        "#calculate PDf\n",
        "norm_pdf=norm.pdf(mean,std,x)\n"
      ],
      "metadata": {
        "id": "TEshOX9CfG1w"
      },
      "execution_count": null,
      "outputs": []
    },
    {
      "cell_type": "code",
      "source": [
        "norm_pdf"
      ],
      "metadata": {
        "id": "HmZRYqCwfo_Q",
        "colab": {
          "base_uri": "https://localhost:8080/"
        },
        "outputId": "a91d538b-5836-457d-eaae-68266d09dff9"
      },
      "execution_count": null,
      "outputs": [
        {
          "output_type": "execute_result",
          "data": {
            "text/plain": [
              "array([       nan,        nan,        nan, ..., 0.06562434, 0.0655988 ,\n",
              "       0.06557329])"
            ]
          },
          "metadata": {},
          "execution_count": 101
        }
      ]
    },
    {
      "cell_type": "code",
      "source": [
        "plt.plot(x,norm_pdf)\n",
        "plt.xlabel(\"x values\")\n",
        "plt.ylabel(\"probability Density\")\n",
        "plt.title('normal Distribution(mean=0,std=1)')\n",
        "plt.show()"
      ],
      "metadata": {
        "id": "F3N4SMCWfrke",
        "colab": {
          "base_uri": "https://localhost:8080/",
          "height": 472
        },
        "outputId": "a9ef7dcd-f68b-481a-9ab4-d8a1512e2640"
      },
      "execution_count": null,
      "outputs": [
        {
          "output_type": "display_data",
          "data": {
            "text/plain": [
              "<Figure size 640x480 with 1 Axes>"
            ],
            "image/png": "[encoded data removed]"
          },
          "metadata": {}
        }
      ]
    },
    {
      "cell_type": "markdown",
      "source": [
        "# Binomial Distribution"
      ],
      "metadata": {
        "id": "xppLaagMhhbZ"
      }
    },
    {
      "cell_type": "markdown",
      "source": [
        "Binomial Distribution Definition: A discrete probability distribution for a fixed number of trials\n",
        "\n",
        "(n) with two possible outcomes (success/failure).\n",
        "\n",
        "Used in coin flips, pass/fail tests, manufacturing defects. Defined by n (number of trials) & p (probability of success per trial)."
      ],
      "metadata": {
        "id": "gh_iGXlNhfbm"
      }
    },
    {
      "cell_type": "code",
      "source": [
        "from scipy.stats import binom"
      ],
      "metadata": {
        "id": "EZKEx9Btfvna"
      },
      "execution_count": null,
      "outputs": []
    },
    {
      "cell_type": "code",
      "source": [
        "# parameters\n",
        "n=10 #no toss a coin\n",
        "p=0.5 #50% suceess probability\n",
        "x=np.arange(0,n+1)\n",
        "pmf_values=binom.pmf(x,n,p)"
      ],
      "metadata": {
        "id": "ZY3dNoxvh-XD"
      },
      "execution_count": null,
      "outputs": []
    },
    {
      "cell_type": "code",
      "source": [
        "pmf_values"
      ],
      "metadata": {
        "id": "4snULDuQisNi",
        "colab": {
          "base_uri": "https://localhost:8080/"
        },
        "outputId": "981703e5-5d16-4724-d843-dac940ada526"
      },
      "execution_count": null,
      "outputs": [
        {
          "output_type": "execute_result",
          "data": {
            "text/plain": [
              "array([0.00097656, 0.00976563, 0.04394531, 0.1171875 , 0.20507812,\n",
              "       0.24609375, 0.20507812, 0.1171875 , 0.04394531, 0.00976563,\n",
              "       0.00097656])"
            ]
          },
          "metadata": {},
          "execution_count": 105
        }
      ]
    },
    {
      "cell_type": "code",
      "source": [
        "# plot\n",
        "plt.stem(x,pmf_values)\n",
        "plt.xlabel(\"number of success\")\n",
        "plt.ylabel(\"probability\")\n",
        "plt.title(\"Binomial Distribution\")\n",
        "plt.grid()\n",
        "plt.xticks(x)\n",
        "plt.show()"
      ],
      "metadata": {
        "id": "Xe12coSUix0H",
        "colab": {
          "base_uri": "https://localhost:8080/",
          "height": 472
        },
        "outputId": "a1edf6e4-1d96-4507-82d7-d863a32135fd"
      },
      "execution_count": null,
      "outputs": [
        {
          "output_type": "display_data",
          "data": {
            "text/plain": [
              "<Figure size 640x480 with 1 Axes>"
            ],
            "image/png": "[encoded data removed]"
          },
          "metadata": {}
        }
      ]
    },
    {
      "cell_type": "markdown",
      "source": [
        "#poisson Distribution"
      ],
      "metadata": {
        "id": "zfVIzGStkJUG"
      }
    },
    {
      "cell_type": "markdown",
      "source": [
        "Poisson Distribution Definition: A discrete probability distribution that models the number of events occurring in a fixed interval of time/space, given a constant mean rate.\n",
        "\n",
        "Used in call center arrivals, server requests, rare disease occurrences. Defined by A (average event rate per interval)."
      ],
      "metadata": {
        "id": "yiOg12rwkG4T"
      }
    },
    {
      "cell_type": "code",
      "source": [
        "from scipy.stats import poisson"
      ],
      "metadata": {
        "id": "XSUNrm_1kRVv"
      },
      "execution_count": null,
      "outputs": []
    },
    {
      "cell_type": "code",
      "source": [
        "#parameters\n",
        "lambda_=5 #average  occurenceper interval\n",
        "x=np.arange(0,10)\n",
        "pmf_values=poisson.pmf(x,lambda_)"
      ],
      "metadata": {
        "id": "D6AM-HhUkb0H"
      },
      "execution_count": null,
      "outputs": []
    },
    {
      "cell_type": "code",
      "source": [
        "pmf_values"
      ],
      "metadata": {
        "id": "M1zr2Q5ok9ho",
        "colab": {
          "base_uri": "https://localhost:8080/"
        },
        "outputId": "e9c63b33-4eac-4646-d4be-e935ff746080"
      },
      "execution_count": null,
      "outputs": [
        {
          "output_type": "execute_result",
          "data": {
            "text/plain": [
              "array([0.00673795, 0.03368973, 0.08422434, 0.1403739 , 0.17546737,\n",
              "       0.17546737, 0.14622281, 0.10444486, 0.06527804, 0.03626558])"
            ]
          },
          "metadata": {},
          "execution_count": 109
        }
      ]
    },
    {
      "cell_type": "code",
      "source": [
        "#plot\n",
        "plt.stem(x,pmf_values)\n",
        "plt.xlabel('no of success')\n",
        "plt.ylabel('probability of mass')\n",
        "plt.title('poisson distribution')\n",
        "plt.grid()\n",
        "plt.xticks(x)\n",
        "plt.show()\n"
      ],
      "metadata": {
        "id": "slneU9U6ladn",
        "colab": {
          "base_uri": "https://localhost:8080/",
          "height": 472
        },
        "outputId": "5baa998d-40db-4490-ac19-fffb728bcfd1"
      },
      "execution_count": null,
      "outputs": [
        {
          "output_type": "display_data",
          "data": {
            "text/plain": [
              "<Figure size 640x480 with 1 Axes>"
            ],
            "image/png": "[encoded data removed]"
          },
          "metadata": {}
        }
      ]
    },
    {
      "cell_type": "markdown",
      "source": [
        "#Covariance and Correlation"
      ],
      "metadata": {
        "id": "f6yqDHse_y2B"
      }
    },
    {
      "cell_type": "code",
      "source": [
        "x=np.array([10,20,30,40,50,90,80,69,76])\n",
        "y=np.array([15,25,35,45,55,89,76,78,90])"
      ],
      "metadata": {
        "id": "4CkMgFGCmDbX"
      },
      "execution_count": null,
      "outputs": []
    },
    {
      "cell_type": "code",
      "source": [
        "#calculate covariance\n",
        "Covariance=np.cov(x,y)"
      ],
      "metadata": {
        "id": "-2ZYuyBSBVGe"
      },
      "execution_count": null,
      "outputs": []
    },
    {
      "cell_type": "code",
      "source": [
        "Covariance"
      ],
      "metadata": {
        "colab": {
          "base_uri": "https://localhost:8080/"
        },
        "id": "iIvE7cqFbtl_",
        "outputId": "1670fad3-614a-4fbb-8d56-b360ed426cc4"
      },
      "execution_count": null,
      "outputs": [
        {
          "output_type": "execute_result",
          "data": {
            "text/plain": [
              "array([[814.        , 789.41666667],\n",
              "       [789.41666667, 791.52777778]])"
            ]
          },
          "metadata": {},
          "execution_count": 113
        }
      ]
    },
    {
      "cell_type": "code",
      "source": [
        "correlation=np.corrcoef(x,y)"
      ],
      "metadata": {
        "id": "RPcmDLd5b3Ru"
      },
      "execution_count": null,
      "outputs": []
    },
    {
      "cell_type": "code",
      "source": [
        "correlation"
      ],
      "metadata": {
        "colab": {
          "base_uri": "https://localhost:8080/"
        },
        "id": "M9qjlu4McFy7",
        "outputId": "83dfa77b-7fd7-43ea-b21a-dcb6a456a0f1"
      },
      "execution_count": null,
      "outputs": [
        {
          "output_type": "execute_result",
          "data": {
            "text/plain": [
              "array([[1.        , 0.98346976],\n",
              "       [0.98346976, 1.        ]])"
            ]
          },
          "metadata": {},
          "execution_count": 115
        }
      ]
    },
    {
      "cell_type": "markdown",
      "source": [
        "#conditional probability"
      ],
      "metadata": {
        "id": "_ugVAwzij2Lt"
      }
    },
    {
      "cell_type": "code",
      "source": [
        "# define the probilities\n",
        "p_A_and_B = 1/16 #p(a intersection b)\n",
        "P_B=1/4"
      ],
      "metadata": {
        "id": "jTM559ytcKKd"
      },
      "execution_count": null,
      "outputs": []
    },
    {
      "cell_type": "code",
      "source": [
        "p_A_given_B=p_A_and_B/P_B"
      ],
      "metadata": {
        "id": "AO7LmyS5jxzk"
      },
      "execution_count": null,
      "outputs": []
    },
    {
      "cell_type": "code",
      "source": [
        "p_A_given_B"
      ],
      "metadata": {
        "colab": {
          "base_uri": "https://localhost:8080/"
        },
        "id": "pvgRQubCmPYa",
        "outputId": "f8e2e5ee-5cb8-4051-baf9-5fdef0a82702"
      },
      "execution_count": null,
      "outputs": [
        {
          "output_type": "execute_result",
          "data": {
            "text/plain": [
              "0.25"
            ]
          },
          "metadata": {},
          "execution_count": 123
        }
      ]
    },
    {
      "cell_type": "code",
      "source": [
        "print(f\"conditional probability P(A/B):{p_A_given_B}\")"
      ],
      "metadata": {
        "colab": {
          "base_uri": "https://localhost:8080/"
        },
        "id": "yXP8tX1yogkF",
        "outputId": "5c318ef1-077c-43d6-8705-c882513e7095"
      },
      "execution_count": null,
      "outputs": [
        {
          "output_type": "stream",
          "name": "stdout",
          "text": [
            "conditional probability P(A/B):0.25\n"
          ]
        }
      ]
    },
    {
      "cell_type": "markdown",
      "source": [
        "#Baye's Theorm"
      ],
      "metadata": {
        "id": "coQqi3AlpJlE"
      }
    },
    {
      "cell_type": "code",
      "source": [
        "#given values\n",
        "p_A=0.3\n",
        "p_A_given_B =0.9\n",
        "p_B_given_not_A=0.06\n",
        "p_not_A =0.7\n"
      ],
      "metadata": {
        "id": "o0k8uOzao-H3"
      },
      "execution_count": null,
      "outputs": []
    },
    {
      "cell_type": "code",
      "source": [
        "p_B=(p_A_given_B*p_A)+(p_B_given_not_A*p_not_A)"
      ],
      "metadata": {
        "id": "K6B5Fpsyp6lv"
      },
      "execution_count": null,
      "outputs": []
    },
    {
      "cell_type": "code",
      "source": [
        "p_B"
      ],
      "metadata": {
        "colab": {
          "base_uri": "https://localhost:8080/"
        },
        "id": "rA3SdPguq2Wq",
        "outputId": "3964d6d7-605a-4ed3-a386-1f2e356707b2"
      },
      "execution_count": null,
      "outputs": [
        {
          "output_type": "execute_result",
          "data": {
            "text/plain": [
              "0.312"
            ]
          },
          "metadata": {},
          "execution_count": 130
        }
      ]
    },
    {
      "cell_type": "code",
      "source": [
        "p_A_given_B=(p_A_given_B*p_A)/P_B"
      ],
      "metadata": {
        "id": "eCIPakVFrNZE"
      },
      "execution_count": null,
      "outputs": []
    },
    {
      "cell_type": "code",
      "source": [
        "p_A_given_B"
      ],
      "metadata": {
        "id": "B-ncK1_ArewU",
        "outputId": "a3ab847c-df40-4476-f6fa-c6412d63a83d",
        "colab": {
          "base_uri": "https://localhost:8080/"
        }
      },
      "execution_count": null,
      "outputs": [
        {
          "output_type": "execute_result",
          "data": {
            "text/plain": [
              "1.08"
            ]
          },
          "metadata": {},
          "execution_count": 132
        }
      ]
    },
    {
      "cell_type": "code",
      "source": [],
      "metadata": {
        "id": "Tct2bEURrhDY"
      },
      "execution_count": null,
      "outputs": []
    }
  ]
}